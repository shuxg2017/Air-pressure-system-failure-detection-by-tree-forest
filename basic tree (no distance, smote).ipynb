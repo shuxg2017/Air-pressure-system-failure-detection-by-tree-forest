{
 "cells": [
  {
   "cell_type": "markdown",
   "metadata": {},
   "source": [
    "# Basic Tree (No Distance, SMOTE)\n",
    "1. impute\n",
    "2. train, valid, test\n",
    "3. smote\n",
    "4. search best possible hyper parameters\n",
    "5. calibrate\n",
    "6. threshold"
   ]
  },
  {
   "cell_type": "code",
   "execution_count": 1,
   "metadata": {},
   "outputs": [
    {
     "name": "stdout",
     "output_type": "stream",
     "text": [
      "importing Jupyter notebook from C:\\Users\\shuxg\\Desktop\\EIT\\Decision Trees\\APS\\APS_system_package\\data_clean.ipynb\n",
      "importing Jupyter notebook from C:\\Users\\shuxg\\Desktop\\EIT\\Decision Trees\\APS\\APS_system_package\\preprocessing.ipynb\n"
     ]
    }
   ],
   "source": [
    "import import_ipynb\n",
    "import pandas as pd\n",
    "from APS_system_package.data_clean import train_data_clean_v2, test_data_clean_v2\n",
    "from APS_system_package.preprocessing import *\n",
    "import time\n",
    "from tqdm import tqdm\n",
    "from sklearn.metrics import confusion_matrix\n",
    "from sklearn.metrics import precision_recall_curve\n",
    "import matplotlib.pyplot as plt\n",
    "%matplotlib inline\n",
    "import seaborn as sns\n",
    "sns.set()"
   ]
  },
  {
   "cell_type": "code",
   "execution_count": 2,
   "metadata": {},
   "outputs": [],
   "source": [
    "def plot_confusion_matrix(y_train, y_train_hat, y_test, y_test_hat):\n",
    "    # training confusion matrix\n",
    "    cm = confusion_matrix(y_train, y_train_hat)\n",
    "    plt.figure(figsize = (6, 6))\n",
    "    sns.heatmap(cm, annot = True, square = True, fmt = 'g', cbar = False)\n",
    "    plt.title('Train Data Confusion Matrix')\n",
    "    plt.xlabel('Predict'); plt.ylabel('Actual')\n",
    "    plt.show()\n",
    "    tn, fp, fn, tp = cm.ravel()\n",
    "    train_cost = fp*10 + fn*500\n",
    "    # testing confusion matrixes\n",
    "    cm = confusion_matrix(y_test, y_test_hat)\n",
    "    tn, fp, fn, tp = cm.ravel()\n",
    "    precision_matrix = np.array([[tn/(tn+fn+1), fp/(fp+tp+1)],\n",
    "                                 [fn/(tn+fn+1), tp/(fp+tp+1)]])\n",
    "    recall_matrix    = np.array([[tn/(tn+fp+1), fp/(tn+fp+1)],\n",
    "                                 [fn/(fn+tp+1), tp/(fn+tp+1)]])\n",
    "    plt.figure(figsize = (15, 5))\n",
    "    plt.subplot(131); sns.heatmap(cm, annot = True, fmt = 'g', cbar = False); plt.title('Test Data Confusion Matrix')\n",
    "    plt.xlabel('Predict')\n",
    "    plt.ylabel('Actual')\n",
    "    plt.subplot(132); sns.heatmap(precision_matrix, annot = True, cbar = False); plt.title('Precision Matrix')\n",
    "    plt.xlabel('Predict')\n",
    "    plt.ylabel('Actual')\n",
    "    plt.subplot(133); sns.heatmap(recall_matrix, annot = True, cbar = False); plt.title('Recall Matrix')\n",
    "    plt.xlabel('Predict')\n",
    "    plt.ylabel('Actual')\n",
    "    plt.tight_layout()\n",
    "    plt.show()\n",
    "    test_cost = fp*10 + fn*500\n",
    "    # print costs\n",
    "    print(f'Train Dataset Cost:\\t{train_cost}')\n",
    "    print(f'Test Dataset Cost:\\t{test_cost}')"
   ]
  },
  {
   "cell_type": "code",
   "execution_count": 3,
   "metadata": {},
   "outputs": [],
   "source": [
    "def plot_precision_recall_costs(model, data, y_true):\n",
    "    y_prob = model.predict_proba(data)[:, 1]\n",
    "    precision, recall, thresholds = precision_recall_curve(y_true, y_prob)\n",
    "    thresholds = np.append(thresholds, 1)\n",
    "    Costs = []\n",
    "    for t in tqdm(thresholds):\n",
    "        y_hat = y_prob > t\n",
    "        tn, fp, fn, tp = confusion_matrix(y_true, y_hat).ravel()\n",
    "        cost = fp*10 + fn*500\n",
    "        Costs.append(cost)\n",
    "    plt.figure(figsize = (15, 5))\n",
    "    plt.subplot(131); plt.xlim([0, 1.03]); plt.ylim([0, 1.03])\n",
    "    plt.plot(recall, precision)\n",
    "    plt.xlabel('recall'); plt.ylabel('precision')\n",
    "    plt.title('Recall and Precision Plot')\n",
    "    \n",
    "    plt.subplot(132); plt.xlim([0, 1.03]); plt.ylim([0, 1.03])\n",
    "    plt.plot(thresholds, recall, label = 'recall')\n",
    "    plt.plot(thresholds, precision, label = 'precision')\n",
    "    plt.xlabel('threshold'); plt.ylabel('recall and precision')\n",
    "    plt.legend()\n",
    "    plt.title('Recall and Precision Plot')\n",
    "    \n",
    "    plt.subplot(133); plt.plot(thresholds, Costs)\n",
    "    plt.xlabel('threshold'); plt.ylabel('cost')\n",
    "    plt.title('Cost Threshold Plot')\n",
    "    plt.tight_layout()\n",
    "    # print best cost, and threshold\n",
    "    loc = np.argmin(Costs)\n",
    "    print('Best threshold:\\t{}'.format(thresholds[loc]))\n",
    "    print('Minimize cost:\\t{}'.format(Costs[loc]))\n",
    "    return thresholds[loc]"
   ]
  },
  {
   "cell_type": "code",
   "execution_count": 4,
   "metadata": {},
   "outputs": [],
   "source": [
    "def evaluate_model(model, data, y_true, best_threshold):\n",
    "    # 1. confusion matrix\n",
    "    # 2. cost\n",
    "    y_prob = model.predict_proba(data)[:, 1]\n",
    "    y_hat = y_prob > best_threshold\n",
    "    cm = confusion_matrix(y_true, y_hat)\n",
    "    tn, fp, fn, tp = cm.ravel()\n",
    "    precision_matrix = np.array([[tn/(tn+fn), fp/(fp+tp)],\n",
    "                                 [fn/(tn+fn), tp/(fp+tp)]])\n",
    "    recall_matrix    = np.array([[tn/(tn+fp), fp/(tn+fp)],\n",
    "                                 [fn/(fn+tp), tp/(fn+tp)]])\n",
    "    plt.figure(figsize = (15, 5))\n",
    "    plt.subplot(131); sns.heatmap(cm, annot = True, fmt = 'g', cbar = False); plt.title('Data Confusion Matrix')\n",
    "    plt.xlabel('Predict')\n",
    "    plt.ylabel('Actual')\n",
    "    plt.subplot(132); sns.heatmap(precision_matrix, annot = True, cbar = False); plt.title('Precision Matrix')\n",
    "    plt.xlabel('Predict')\n",
    "    plt.ylabel('Actual')\n",
    "    plt.subplot(133); sns.heatmap(recall_matrix, annot = True, cbar = False); plt.title('Recall Matrix')\n",
    "    plt.xlabel('Predict')\n",
    "    plt.ylabel('Actual')\n",
    "    plt.tight_layout()\n",
    "    plt.show()\n",
    "    cost = fp*10 + fn*500\n",
    "    print(f'Cost: {cost}')"
   ]
  },
  {
   "cell_type": "markdown",
   "metadata": {},
   "source": [
    "### 1. Load Datasets and Impute"
   ]
  },
  {
   "cell_type": "code",
   "execution_count": 5,
   "metadata": {},
   "outputs": [],
   "source": [
    "impute = None\n",
    "normalize = True\n",
    "df      = train_data_clean_v2('train.csv', impute = impute)\n",
    "df_test = test_data_clean_v2('test.csv', df, impute = impute)"
   ]
  },
  {
   "cell_type": "code",
   "execution_count": 6,
   "metadata": {},
   "outputs": [
    {
     "data": {
      "text/plain": [
       "0"
      ]
     },
     "execution_count": 6,
     "metadata": {},
     "output_type": "execute_result"
    }
   ],
   "source": [
    "sum(df.values[:, 0:10].ravel() == -1)"
   ]
  },
  {
   "cell_type": "markdown",
   "metadata": {},
   "source": [
    "### 2. Dataset Split\n",
    "- df\n",
    "    - Train\n",
    "    - Valid"
   ]
  },
  {
   "cell_type": "code",
   "execution_count": 7,
   "metadata": {},
   "outputs": [],
   "source": [
    "from sklearn.model_selection import train_test_split"
   ]
  },
  {
   "cell_type": "code",
   "execution_count": 8,
   "metadata": {},
   "outputs": [
    {
     "name": "stdout",
     "output_type": "stream",
     "text": [
      "Original training dataset: \n",
      "Negative cases: 59000\n",
      "Positive cases: 1000\n"
     ]
    }
   ],
   "source": [
    "print('Original training dataset: ')\n",
    "print('Negative cases: {}'.format(len(df[df['class'] == 0])))\n",
    "print('Positive cases: {}'.format(len(df[df['class'] == 1])))"
   ]
  },
  {
   "cell_type": "code",
   "execution_count": 9,
   "metadata": {},
   "outputs": [
    {
     "name": "stdout",
     "output_type": "stream",
     "text": [
      "train dataset: 51000\n",
      "valid dataset: 9000\n"
     ]
    }
   ],
   "source": [
    "y = df.pop('class')\n",
    "df_train, df_valid, y_train, y_valid = train_test_split(df, y, test_size = 0.15, random_state = 41)\n",
    "print(f'train dataset: {len(y_train)}')\n",
    "print(f'valid dataset: {len(y_valid)}')"
   ]
  },
  {
   "cell_type": "markdown",
   "metadata": {},
   "source": [
    "#### Positive cases\n",
    "- train: positive cases\n",
    "- valid: positive cases"
   ]
  },
  {
   "cell_type": "code",
   "execution_count": 10,
   "metadata": {},
   "outputs": [
    {
     "name": "stdout",
     "output_type": "stream",
     "text": [
      "train pos: 842\n",
      "valid pos: 158\n"
     ]
    }
   ],
   "source": [
    "print(f'train pos: {len(y_train[y_train == 1])}')\n",
    "print(f'valid pos: {len(y_valid[y_valid == 1])}')"
   ]
  },
  {
   "cell_type": "code",
   "execution_count": 11,
   "metadata": {},
   "outputs": [],
   "source": [
    "y_test = df_test.pop('class')"
   ]
  },
  {
   "cell_type": "markdown",
   "metadata": {},
   "source": [
    "### Normalize ? (Optional)"
   ]
  },
  {
   "cell_type": "code",
   "execution_count": 12,
   "metadata": {},
   "outputs": [],
   "source": [
    "if normalize:\n",
    "    norm_obj = MaxMinNormalization(df_train)\n",
    "    df_train = norm_obj.fit(df_train)\n",
    "    df_valid = norm_obj.fit(df_valid)\n",
    "    df_test  = norm_obj.fit(df_test)"
   ]
  },
  {
   "cell_type": "markdown",
   "metadata": {},
   "source": [
    "### 3. Smote"
   ]
  },
  {
   "cell_type": "code",
   "execution_count": 13,
   "metadata": {},
   "outputs": [
    {
     "name": "stderr",
     "output_type": "stream",
     "text": [
      "Using TensorFlow backend.\n"
     ]
    }
   ],
   "source": [
    "from imblearn.over_sampling import SMOTE"
   ]
  },
  {
   "cell_type": "code",
   "execution_count": 14,
   "metadata": {},
   "outputs": [
    {
     "name": "stdout",
     "output_type": "stream",
     "text": [
      "df_train: 100316\n",
      "df_valid: 17684\n"
     ]
    }
   ],
   "source": [
    "smote = SMOTE()\n",
    "df_train, y_train = smote.fit_sample(df_train, y_train)\n",
    "df_valid, y_valid = smote.fit_sample(df_valid, y_valid)\n",
    "print(f'df_train: {len(df_train)}')\n",
    "print(f'df_valid: {len(df_valid)}')"
   ]
  },
  {
   "cell_type": "markdown",
   "metadata": {},
   "source": [
    "#### check each dataset"
   ]
  },
  {
   "cell_type": "code",
   "execution_count": 15,
   "metadata": {},
   "outputs": [
    {
     "name": "stdout",
     "output_type": "stream",
     "text": [
      "df_train:\t100316\n",
      "df_valid:\t17684\n",
      "df_test:\t16000\n"
     ]
    }
   ],
   "source": [
    "print(f'df_train:\\t{len(df_train)}')\n",
    "print(f'df_valid:\\t{len(df_valid)}')\n",
    "print(f'df_test:\\t{len(df_test)}')"
   ]
  },
  {
   "cell_type": "markdown",
   "metadata": {},
   "source": [
    "### Now, we have our dataset ready\n",
    "- df_train, y_train \n",
    "- df_valid, y_valid\n",
    "- df_test, y_test"
   ]
  },
  {
   "cell_type": "markdown",
   "metadata": {},
   "source": [
    "### 4. Build Tree and Search Best Setting"
   ]
  },
  {
   "cell_type": "code",
   "execution_count": 16,
   "metadata": {},
   "outputs": [],
   "source": [
    "from sklearn.model_selection import RandomizedSearchCV\n",
    "from sklearn.tree import DecisionTreeClassifier\n",
    "from sklearn import tree"
   ]
  },
  {
   "cell_type": "code",
   "execution_count": 17,
   "metadata": {},
   "outputs": [
    {
     "name": "stdout",
     "output_type": "stream",
     "text": [
      "Fitting 5 folds for each of 100 candidates, totalling 500 fits\n"
     ]
    },
    {
     "name": "stderr",
     "output_type": "stream",
     "text": [
      "[Parallel(n_jobs=-1)]: Using backend LokyBackend with 12 concurrent workers.\n",
      "[Parallel(n_jobs=-1)]: Done  17 tasks      | elapsed:    3.6s\n",
      "[Parallel(n_jobs=-1)]: Done 138 tasks      | elapsed:   13.8s\n",
      "[Parallel(n_jobs=-1)]: Done 341 tasks      | elapsed:   31.3s\n",
      "[Parallel(n_jobs=-1)]: Done 500 out of 500 | elapsed:   46.3s finished\n"
     ]
    },
    {
     "name": "stdout",
     "output_type": "stream",
     "text": [
      "total run time: 47 seconds\n"
     ]
    }
   ],
   "source": [
    "start = time.time()\n",
    "# more advanced search\n",
    "random_grid = {'max_depth': [2, 3, 5, 8],\n",
    "               'min_samples_split': [5, 7, 9, 11],\n",
    "               'min_samples_leaf': [1, 2, 3, 5],\n",
    "               'max_features': ['auto', 'sqrt'],\n",
    "               'class_weight': ['balanced', None]}\n",
    "tr = DecisionTreeClassifier(random_state = 41)\n",
    "tr_random = RandomizedSearchCV(estimator = tr,\n",
    "                               param_distributions = random_grid,\n",
    "                               n_iter = 100,\n",
    "                               scoring = 'recall',\n",
    "                               cv = 5, verbose = 2,\n",
    "                               n_jobs = -1)\n",
    "tr_random.fit(df_train, y_train)\n",
    "#\n",
    "end = time.time() - start\n",
    "print('total run time: {:.0f} seconds'.format(end))"
   ]
  },
  {
   "cell_type": "code",
   "execution_count": 18,
   "metadata": {},
   "outputs": [
    {
     "data": {
      "text/plain": [
       "{'min_samples_split': 5,\n",
       " 'min_samples_leaf': 1,\n",
       " 'max_features': 'auto',\n",
       " 'max_depth': 8,\n",
       " 'class_weight': None}"
      ]
     },
     "execution_count": 18,
     "metadata": {},
     "output_type": "execute_result"
    }
   ],
   "source": [
    "best_tree = tr_random.best_estimator_\n",
    "tr_random.best_params_"
   ]
  },
  {
   "cell_type": "markdown",
   "metadata": {},
   "source": [
    "### 5. Calibrate"
   ]
  },
  {
   "cell_type": "code",
   "execution_count": 19,
   "metadata": {},
   "outputs": [],
   "source": [
    "from sklearn.calibration import CalibratedClassifierCV"
   ]
  },
  {
   "cell_type": "code",
   "execution_count": 20,
   "metadata": {},
   "outputs": [
    {
     "data": {
      "text/plain": [
       "CalibratedClassifierCV(base_estimator=DecisionTreeClassifier(ccp_alpha=0.0,\n",
       "                                                             class_weight=None,\n",
       "                                                             criterion='gini',\n",
       "                                                             max_depth=8,\n",
       "                                                             max_features='auto',\n",
       "                                                             max_leaf_nodes=None,\n",
       "                                                             min_impurity_decrease=0.0,\n",
       "                                                             min_impurity_split=None,\n",
       "                                                             min_samples_leaf=1,\n",
       "                                                             min_samples_split=5,\n",
       "                                                             min_weight_fraction_leaf=0.0,\n",
       "                                                             presort='deprecated',\n",
       "                                                             random_state=41,\n",
       "                                                             splitter='best'),\n",
       "                       cv=5, method='sigmoid')"
      ]
     },
     "execution_count": 20,
     "metadata": {},
     "output_type": "execute_result"
    }
   ],
   "source": [
    "calib_tree = CalibratedClassifierCV(best_tree, cv = 5, method = 'sigmoid')\n",
    "calib_tree.fit(df_train, y_train)"
   ]
  },
  {
   "cell_type": "markdown",
   "metadata": {},
   "source": [
    "#### check results"
   ]
  },
  {
   "cell_type": "code",
   "execution_count": 21,
   "metadata": {},
   "outputs": [
    {
     "data": {
      "image/png": "[encoded data removed]",
      "text/plain": [
       "<Figure size 432x432 with 1 Axes>"
      ]
     },
     "metadata": {},
     "output_type": "display_data"
    },
    {
     "data": {
      "image/png": "[encoded data removed]",
      "text/plain": [
       "<Figure size 1080x360 with 3 Axes>"
      ]
     },
     "metadata": {},
     "output_type": "display_data"
    },
    {
     "name": "stdout",
     "output_type": "stream",
     "text": [
      "Train Dataset Cost:\t328090\n",
      "Test Dataset Cost:\t15460\n"
     ]
    }
   ],
   "source": [
    "plot_confusion_matrix(y_train, calib_tree.predict(df_train), y_test, calib_tree.predict(df_test))"
   ]
  },
  {
   "cell_type": "markdown",
   "metadata": {},
   "source": [
    "### 6. Threshold"
   ]
  },
  {
   "cell_type": "code",
   "execution_count": 22,
   "metadata": {},
   "outputs": [
    {
     "name": "stderr",
     "output_type": "stream",
     "text": [
      "100%|██████████| 1339/1339 [00:42<00:00, 31.76it/s]\n"
     ]
    },
    {
     "name": "stdout",
     "output_type": "stream",
     "text": [
      "Best threshold:\t0.03062944190263206\n",
      "Minimize cost:\t20170\n"
     ]
    },
    {
     "data": {
      "image/png": "[encoded data removed]",
      "text/plain": [
       "<Figure size 1080x360 with 3 Axes>"
      ]
     },
     "metadata": {},
     "output_type": "display_data"
    }
   ],
   "source": [
    "best_threshold = plot_precision_recall_costs(calib_tree, df_valid, y_valid)"
   ]
  },
  {
   "cell_type": "markdown",
   "metadata": {},
   "source": [
    "### 7. Test the Best Threshold"
   ]
  },
  {
   "cell_type": "code",
   "execution_count": 23,
   "metadata": {},
   "outputs": [
    {
     "data": {
      "image/png": "[encoded data removed]",
      "text/plain": [
       "<Figure size 1080x360 with 3 Axes>"
      ]
     },
     "metadata": {},
     "output_type": "display_data"
    },
    {
     "name": "stdout",
     "output_type": "stream",
     "text": [
      "Cost: 14840\n"
     ]
    }
   ],
   "source": [
    "evaluate_model(calib_tree, df_test, y_test, best_threshold)"
   ]
  },
  {
   "cell_type": "markdown",
   "metadata": {},
   "source": [
    "### 8. Test Original Train"
   ]
  },
  {
   "cell_type": "code",
   "execution_count": 24,
   "metadata": {},
   "outputs": [],
   "source": [
    "df = norm_obj.fit(df)"
   ]
  },
  {
   "cell_type": "code",
   "execution_count": 25,
   "metadata": {},
   "outputs": [
    {
     "data": {
      "image/png": "[encoded data removed]",
      "text/plain": [
       "<Figure size 1080x360 with 3 Axes>"
      ]
     },
     "metadata": {},
     "output_type": "display_data"
    },
    {
     "name": "stdout",
     "output_type": "stream",
     "text": [
      "Cost: 54040\n"
     ]
    }
   ],
   "source": [
    "evaluate_model(calib_tree, df, y, best_threshold)"
   ]
  },
  {
   "cell_type": "code",
   "execution_count": 26,
   "metadata": {},
   "outputs": [
    {
     "data": {
      "text/plain": [
       "({'min_samples_split': 5,\n",
       "  'min_samples_leaf': 1,\n",
       "  'max_features': 'auto',\n",
       "  'max_depth': 8,\n",
       "  'class_weight': None},\n",
       " 0.03062944190263206)"
      ]
     },
     "execution_count": 26,
     "metadata": {},
     "output_type": "execute_result"
    }
   ],
   "source": [
    "tr_random.best_params_, best_threshold"
   ]
  },
  {
   "cell_type": "code",
   "execution_count": 4,
   "metadata": {},
   "outputs": [
    {
     "data": {
      "text/plain": [
       "29140"
      ]
     },
     "execution_count": 4,
     "metadata": {},
     "output_type": "execute_result"
    }
   ],
   "source": [
    "52440 - 23300"
   ]
  },
  {
   "cell_type": "code",
   "execution_count": null,
   "metadata": {},
   "outputs": [],
   "source": []
  }
 ],
 "metadata": {
  "kernelspec": {
   "display_name": "Python 3",
   "language": "python",
   "name": "python3"
  },
  "language_info": {
   "codemirror_mode": {
    "name": "ipython",
    "version": 3
   },
   "file_extension": ".py",
   "mimetype": "text/x-python",
   "name": "python",
   "nbconvert_exporter": "python",
   "pygments_lexer": "ipython3",
   "version": "3.7.7"
  }
 },
 "nbformat": 4,
 "nbformat_minor": 4
}
